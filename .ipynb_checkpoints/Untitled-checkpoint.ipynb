{
 "cells": [
  {
   "cell_type": "markdown",
   "metadata": {},
   "source": [
    "# Explore the dataset"
   ]
  },
  {
   "cell_type": "code",
   "execution_count": 50,
   "metadata": {},
   "outputs": [],
   "source": [
    "import pandas as pd \n",
    "import numpy as np \n",
    "import seaborn as sns"
   ]
  },
  {
   "cell_type": "code",
   "execution_count": 51,
   "metadata": {},
   "outputs": [
    {
     "data": {
      "text/html": [
       "<div>\n",
       "<style scoped>\n",
       "    .dataframe tbody tr th:only-of-type {\n",
       "        vertical-align: middle;\n",
       "    }\n",
       "\n",
       "    .dataframe tbody tr th {\n",
       "        vertical-align: top;\n",
       "    }\n",
       "\n",
       "    .dataframe thead th {\n",
       "        text-align: right;\n",
       "    }\n",
       "</style>\n",
       "<table border=\"1\" class=\"dataframe\">\n",
       "  <thead>\n",
       "    <tr style=\"text-align: right;\">\n",
       "      <th></th>\n",
       "      <th>id</th>\n",
       "      <th>name</th>\n",
       "      <th>host_id</th>\n",
       "      <th>host_name</th>\n",
       "      <th>neighbourhood_group</th>\n",
       "      <th>neighbourhood</th>\n",
       "      <th>latitude</th>\n",
       "      <th>longitude</th>\n",
       "      <th>room_type</th>\n",
       "      <th>price</th>\n",
       "      <th>minimum_nights</th>\n",
       "      <th>number_of_reviews</th>\n",
       "      <th>last_review</th>\n",
       "      <th>reviews_per_month</th>\n",
       "      <th>calculated_host_listings_count</th>\n",
       "      <th>availability_365</th>\n",
       "    </tr>\n",
       "  </thead>\n",
       "  <tbody>\n",
       "    <tr>\n",
       "      <th>0</th>\n",
       "      <td>2539</td>\n",
       "      <td>Clean &amp; quiet apt home by the park</td>\n",
       "      <td>2787</td>\n",
       "      <td>John</td>\n",
       "      <td>Brooklyn</td>\n",
       "      <td>Kensington</td>\n",
       "      <td>40.64749</td>\n",
       "      <td>-73.97237</td>\n",
       "      <td>Private room</td>\n",
       "      <td>149</td>\n",
       "      <td>1</td>\n",
       "      <td>9</td>\n",
       "      <td>2018-10-19</td>\n",
       "      <td>0.21</td>\n",
       "      <td>6</td>\n",
       "      <td>365</td>\n",
       "    </tr>\n",
       "    <tr>\n",
       "      <th>1</th>\n",
       "      <td>2595</td>\n",
       "      <td>Skylit Midtown Castle</td>\n",
       "      <td>2845</td>\n",
       "      <td>Jennifer</td>\n",
       "      <td>Manhattan</td>\n",
       "      <td>Midtown</td>\n",
       "      <td>40.75362</td>\n",
       "      <td>-73.98377</td>\n",
       "      <td>Entire home/apt</td>\n",
       "      <td>225</td>\n",
       "      <td>1</td>\n",
       "      <td>45</td>\n",
       "      <td>2019-05-21</td>\n",
       "      <td>0.38</td>\n",
       "      <td>2</td>\n",
       "      <td>355</td>\n",
       "    </tr>\n",
       "    <tr>\n",
       "      <th>2</th>\n",
       "      <td>3647</td>\n",
       "      <td>THE VILLAGE OF HARLEM....NEW YORK !</td>\n",
       "      <td>4632</td>\n",
       "      <td>Elisabeth</td>\n",
       "      <td>Manhattan</td>\n",
       "      <td>Harlem</td>\n",
       "      <td>40.80902</td>\n",
       "      <td>-73.94190</td>\n",
       "      <td>Private room</td>\n",
       "      <td>150</td>\n",
       "      <td>3</td>\n",
       "      <td>0</td>\n",
       "      <td>NaN</td>\n",
       "      <td>NaN</td>\n",
       "      <td>1</td>\n",
       "      <td>365</td>\n",
       "    </tr>\n",
       "    <tr>\n",
       "      <th>3</th>\n",
       "      <td>3831</td>\n",
       "      <td>Cozy Entire Floor of Brownstone</td>\n",
       "      <td>4869</td>\n",
       "      <td>LisaRoxanne</td>\n",
       "      <td>Brooklyn</td>\n",
       "      <td>Clinton Hill</td>\n",
       "      <td>40.68514</td>\n",
       "      <td>-73.95976</td>\n",
       "      <td>Entire home/apt</td>\n",
       "      <td>89</td>\n",
       "      <td>1</td>\n",
       "      <td>270</td>\n",
       "      <td>2019-07-05</td>\n",
       "      <td>4.64</td>\n",
       "      <td>1</td>\n",
       "      <td>194</td>\n",
       "    </tr>\n",
       "    <tr>\n",
       "      <th>4</th>\n",
       "      <td>5022</td>\n",
       "      <td>Entire Apt: Spacious Studio/Loft by central park</td>\n",
       "      <td>7192</td>\n",
       "      <td>Laura</td>\n",
       "      <td>Manhattan</td>\n",
       "      <td>East Harlem</td>\n",
       "      <td>40.79851</td>\n",
       "      <td>-73.94399</td>\n",
       "      <td>Entire home/apt</td>\n",
       "      <td>80</td>\n",
       "      <td>10</td>\n",
       "      <td>9</td>\n",
       "      <td>2018-11-19</td>\n",
       "      <td>0.10</td>\n",
       "      <td>1</td>\n",
       "      <td>0</td>\n",
       "    </tr>\n",
       "  </tbody>\n",
       "</table>\n",
       "</div>"
      ],
      "text/plain": [
       "     id                                              name  host_id  \\\n",
       "0  2539                Clean & quiet apt home by the park     2787   \n",
       "1  2595                             Skylit Midtown Castle     2845   \n",
       "2  3647               THE VILLAGE OF HARLEM....NEW YORK !     4632   \n",
       "3  3831                   Cozy Entire Floor of Brownstone     4869   \n",
       "4  5022  Entire Apt: Spacious Studio/Loft by central park     7192   \n",
       "\n",
       "     host_name neighbourhood_group neighbourhood  latitude  longitude  \\\n",
       "0         John            Brooklyn    Kensington  40.64749  -73.97237   \n",
       "1     Jennifer           Manhattan       Midtown  40.75362  -73.98377   \n",
       "2    Elisabeth           Manhattan        Harlem  40.80902  -73.94190   \n",
       "3  LisaRoxanne            Brooklyn  Clinton Hill  40.68514  -73.95976   \n",
       "4        Laura           Manhattan   East Harlem  40.79851  -73.94399   \n",
       "\n",
       "         room_type  price  minimum_nights  number_of_reviews last_review  \\\n",
       "0     Private room    149               1                  9  2018-10-19   \n",
       "1  Entire home/apt    225               1                 45  2019-05-21   \n",
       "2     Private room    150               3                  0         NaN   \n",
       "3  Entire home/apt     89               1                270  2019-07-05   \n",
       "4  Entire home/apt     80              10                  9  2018-11-19   \n",
       "\n",
       "   reviews_per_month  calculated_host_listings_count  availability_365  \n",
       "0               0.21                               6               365  \n",
       "1               0.38                               2               355  \n",
       "2                NaN                               1               365  \n",
       "3               4.64                               1               194  \n",
       "4               0.10                               1                 0  "
      ]
     },
     "execution_count": 51,
     "metadata": {},
     "output_type": "execute_result"
    }
   ],
   "source": [
    "## showing some data\n",
    "raw_data = pd.read_csv(\"AB_NYC_2019.csv\")\n",
    "raw_data.head()"
   ]
  },
  {
   "cell_type": "code",
   "execution_count": 52,
   "metadata": {},
   "outputs": [
    {
     "name": "stdout",
     "output_type": "stream",
     "text": [
      "The number of examples: 48895\n",
      "The number of features: 16\n"
     ]
    }
   ],
   "source": [
    "\n",
    "print(\"The number of examples: {}\".format(raw_data.shape[0]))\n",
    "print(\"The number of features: {}\".format(raw_data.shape[1]))"
   ]
  },
  {
   "cell_type": "code",
   "execution_count": 53,
   "metadata": {},
   "outputs": [
    {
     "name": "stdout",
     "output_type": "stream",
     "text": [
      "<class 'pandas.core.frame.DataFrame'>\n",
      "RangeIndex: 48895 entries, 0 to 48894\n",
      "Data columns (total 16 columns):\n",
      "id                                48895 non-null int64\n",
      "name                              48879 non-null object\n",
      "host_id                           48895 non-null int64\n",
      "host_name                         48874 non-null object\n",
      "neighbourhood_group               48895 non-null object\n",
      "neighbourhood                     48895 non-null object\n",
      "latitude                          48895 non-null float64\n",
      "longitude                         48895 non-null float64\n",
      "room_type                         48895 non-null object\n",
      "price                             48895 non-null int64\n",
      "minimum_nights                    48895 non-null int64\n",
      "number_of_reviews                 48895 non-null int64\n",
      "last_review                       38843 non-null object\n",
      "reviews_per_month                 38843 non-null float64\n",
      "calculated_host_listings_count    48895 non-null int64\n",
      "availability_365                  48895 non-null int64\n",
      "dtypes: float64(3), int64(7), object(6)\n",
      "memory usage: 6.0+ MB\n"
     ]
    }
   ],
   "source": [
    "## Data information\n",
    "raw_data.info()"
   ]
  },
  {
   "cell_type": "code",
   "execution_count": 54,
   "metadata": {},
   "outputs": [
    {
     "data": {
      "text/html": [
       "<div>\n",
       "<style scoped>\n",
       "    .dataframe tbody tr th:only-of-type {\n",
       "        vertical-align: middle;\n",
       "    }\n",
       "\n",
       "    .dataframe tbody tr th {\n",
       "        vertical-align: top;\n",
       "    }\n",
       "\n",
       "    .dataframe thead th {\n",
       "        text-align: right;\n",
       "    }\n",
       "</style>\n",
       "<table border=\"1\" class=\"dataframe\">\n",
       "  <thead>\n",
       "    <tr style=\"text-align: right;\">\n",
       "      <th></th>\n",
       "      <th>latitude</th>\n",
       "      <th>longitude</th>\n",
       "      <th>price</th>\n",
       "      <th>minimum_nights</th>\n",
       "      <th>number_of_reviews</th>\n",
       "      <th>reviews_per_month</th>\n",
       "      <th>availability_365</th>\n",
       "    </tr>\n",
       "  </thead>\n",
       "  <tbody>\n",
       "    <tr>\n",
       "      <th>count</th>\n",
       "      <td>48895.000000</td>\n",
       "      <td>48895.000000</td>\n",
       "      <td>48895.000000</td>\n",
       "      <td>48895.000000</td>\n",
       "      <td>48895.000000</td>\n",
       "      <td>38843.000000</td>\n",
       "      <td>48895.000000</td>\n",
       "    </tr>\n",
       "    <tr>\n",
       "      <th>mean</th>\n",
       "      <td>40.728949</td>\n",
       "      <td>-73.952170</td>\n",
       "      <td>152.720687</td>\n",
       "      <td>7.029962</td>\n",
       "      <td>23.274466</td>\n",
       "      <td>1.373221</td>\n",
       "      <td>112.781327</td>\n",
       "    </tr>\n",
       "    <tr>\n",
       "      <th>std</th>\n",
       "      <td>0.054530</td>\n",
       "      <td>0.046157</td>\n",
       "      <td>240.154170</td>\n",
       "      <td>20.510550</td>\n",
       "      <td>44.550582</td>\n",
       "      <td>1.680442</td>\n",
       "      <td>131.622289</td>\n",
       "    </tr>\n",
       "    <tr>\n",
       "      <th>min</th>\n",
       "      <td>40.499790</td>\n",
       "      <td>-74.244420</td>\n",
       "      <td>0.000000</td>\n",
       "      <td>1.000000</td>\n",
       "      <td>0.000000</td>\n",
       "      <td>0.010000</td>\n",
       "      <td>0.000000</td>\n",
       "    </tr>\n",
       "    <tr>\n",
       "      <th>25%</th>\n",
       "      <td>40.690100</td>\n",
       "      <td>-73.983070</td>\n",
       "      <td>69.000000</td>\n",
       "      <td>1.000000</td>\n",
       "      <td>1.000000</td>\n",
       "      <td>0.190000</td>\n",
       "      <td>0.000000</td>\n",
       "    </tr>\n",
       "    <tr>\n",
       "      <th>50%</th>\n",
       "      <td>40.723070</td>\n",
       "      <td>-73.955680</td>\n",
       "      <td>106.000000</td>\n",
       "      <td>3.000000</td>\n",
       "      <td>5.000000</td>\n",
       "      <td>0.720000</td>\n",
       "      <td>45.000000</td>\n",
       "    </tr>\n",
       "    <tr>\n",
       "      <th>75%</th>\n",
       "      <td>40.763115</td>\n",
       "      <td>-73.936275</td>\n",
       "      <td>175.000000</td>\n",
       "      <td>5.000000</td>\n",
       "      <td>24.000000</td>\n",
       "      <td>2.020000</td>\n",
       "      <td>227.000000</td>\n",
       "    </tr>\n",
       "    <tr>\n",
       "      <th>max</th>\n",
       "      <td>40.913060</td>\n",
       "      <td>-73.712990</td>\n",
       "      <td>10000.000000</td>\n",
       "      <td>1250.000000</td>\n",
       "      <td>629.000000</td>\n",
       "      <td>58.500000</td>\n",
       "      <td>365.000000</td>\n",
       "    </tr>\n",
       "  </tbody>\n",
       "</table>\n",
       "</div>"
      ],
      "text/plain": [
       "           latitude     longitude         price  minimum_nights  \\\n",
       "count  48895.000000  48895.000000  48895.000000    48895.000000   \n",
       "mean      40.728949    -73.952170    152.720687        7.029962   \n",
       "std        0.054530      0.046157    240.154170       20.510550   \n",
       "min       40.499790    -74.244420      0.000000        1.000000   \n",
       "25%       40.690100    -73.983070     69.000000        1.000000   \n",
       "50%       40.723070    -73.955680    106.000000        3.000000   \n",
       "75%       40.763115    -73.936275    175.000000        5.000000   \n",
       "max       40.913060    -73.712990  10000.000000     1250.000000   \n",
       "\n",
       "       number_of_reviews  reviews_per_month  availability_365  \n",
       "count       48895.000000       38843.000000      48895.000000  \n",
       "mean           23.274466           1.373221        112.781327  \n",
       "std            44.550582           1.680442        131.622289  \n",
       "min             0.000000           0.010000          0.000000  \n",
       "25%             1.000000           0.190000          0.000000  \n",
       "50%             5.000000           0.720000         45.000000  \n",
       "75%            24.000000           2.020000        227.000000  \n",
       "max           629.000000          58.500000        365.000000  "
      ]
     },
     "execution_count": 54,
     "metadata": {},
     "output_type": "execute_result"
    }
   ],
   "source": [
    "## data describe\n",
    "raw_data[[\"latitude\", \"longitude\", \"price\", \"minimum_nights\",\n",
    "          \"number_of_reviews\", \"reviews_per_month\",\"availability_365\"]].describe()"
   ]
  },
  {
   "cell_type": "code",
   "execution_count": 55,
   "metadata": {},
   "outputs": [
    {
     "name": "stdout",
     "output_type": "stream",
     "text": [
      "There are 0 missing value in the id\n",
      "There are 16 missing value in the name\n",
      "There are 0 missing value in the host_id\n",
      "There are 21 missing value in the host_name\n",
      "There are 0 missing value in the neighbourhood_group\n",
      "There are 0 missing value in the neighbourhood\n",
      "There are 0 missing value in the latitude\n",
      "There are 0 missing value in the longitude\n",
      "There are 0 missing value in the room_type\n",
      "There are 0 missing value in the price\n",
      "There are 0 missing value in the minimum_nights\n",
      "There are 0 missing value in the number_of_reviews\n",
      "There are 10052 missing value in the last_review\n",
      "There are 10052 missing value in the reviews_per_month\n",
      "There are 0 missing value in the calculated_host_listings_count\n",
      "There are 0 missing value in the availability_365\n"
     ]
    }
   ],
   "source": [
    "## About missing value \n",
    "for feature in raw_data.columns:\n",
    "    tmp = raw_data[feature]\n",
    "    print(\"There are {} missing value in the {}\".format(sum(raw_data[feature].isna()), feature))\n",
    "    "
   ]
  },
  {
   "cell_type": "markdown",
   "metadata": {},
   "source": [
    "## Some interesting feature"
   ]
  },
  {
   "cell_type": "markdown",
   "metadata": {},
   "source": [
    "### Price"
   ]
  },
  {
   "cell_type": "code",
   "execution_count": 56,
   "metadata": {},
   "outputs": [
    {
     "data": {
      "text/plain": [
       "<matplotlib.axes._subplots.AxesSubplot at 0x1124bbda0>"
      ]
     },
     "execution_count": 56,
     "metadata": {},
     "output_type": "execute_result"
    },
    {
     "data": {
      "image/png": "[encoded data removed]",
      "text/plain": [
       "<Figure size 432x288 with 1 Axes>"
      ]
     },
     "metadata": {},
     "output_type": "display_data"
    }
   ],
   "source": [
    "## Price\n",
    "sns.distplot(raw_data[\"price\"])"
   ]
  },
  {
   "cell_type": "code",
   "execution_count": 57,
   "metadata": {},
   "outputs": [
    {
     "data": {
      "text/plain": [
       "<matplotlib.axes._subplots.AxesSubplot at 0x10f94c588>"
      ]
     },
     "execution_count": 57,
     "metadata": {},
     "output_type": "execute_result"
    },
    {
     "data": {
      "image/png": "[encoded data removed]",
      "text/plain": [
       "<Figure size 432x288 with 1 Axes>"
      ]
     },
     "metadata": {},
     "output_type": "display_data"
    }
   ],
   "source": [
    "sns.distplot(np.log(raw_data[\"price\"] + 1), axlabel= \"log(price)\")"
   ]
  },
  {
   "cell_type": "code",
   "execution_count": 58,
   "metadata": {},
   "outputs": [],
   "source": [
    "## https://blog.csdn.net/yangziluomu/article/details/73528080\n",
    "## Find outlier based on Normal-distribution\n",
    "## Try zscore\n",
    "## https://stackoverflow.com/questions/24761998/pandas-compute-z-score-for-all-columns\n",
    "raw_data[\"log_price\"] = np.log(raw_data[\"price\"] + 1)\n",
    "raw_data[\"price_zscore\"] = (raw_data[\"log_price\"] - raw_data[\"log_price\"].mean())/ raw_data[\"log_price\"].std(ddof=0)"
   ]
  },
  {
   "cell_type": "code",
   "execution_count": 59,
   "metadata": {},
   "outputs": [
    {
     "data": {
      "text/plain": [
       "<matplotlib.axes._subplots.AxesSubplot at 0x10c8c1dd8>"
      ]
     },
     "execution_count": 59,
     "metadata": {},
     "output_type": "execute_result"
    },
    {
     "data": {
      "image/png": "[encoded data removed]",
      "text/plain": [
       "<Figure size 432x288 with 1 Axes>"
      ]
     },
     "metadata": {},
     "output_type": "display_data"
    }
   ],
   "source": [
    "## Use Z-score to eliminate the outlier\n",
    "raw_data = raw_data[np.abs(raw_data[\"price_zscore\"]) < 3  ]\n",
    "sns.distplot(raw_data[\"log_price\"], axlabel= \"log(price)\")"
   ]
  },
  {
   "cell_type": "markdown",
   "metadata": {},
   "source": [
    "### Neighbourhood group"
   ]
  },
  {
   "cell_type": "code",
   "execution_count": 60,
   "metadata": {},
   "outputs": [
    {
     "data": {
      "text/plain": [
       "array(['Brooklyn', 'Manhattan', 'Queens', 'Staten Island', 'Bronx'],\n",
       "      dtype=object)"
      ]
     },
     "execution_count": 60,
     "metadata": {},
     "output_type": "execute_result"
    }
   ],
   "source": [
    "## Neighbours\n",
    "raw_data[\"neighbourhood_group\"].unique()"
   ]
  },
  {
   "cell_type": "code",
   "execution_count": 74,
   "metadata": {},
   "outputs": [
    {
     "data": {
      "image/png": "[encoded data removed]",
      "text/plain": [
       "<Figure size 432x288 with 1 Axes>"
      ]
     },
     "metadata": {},
     "output_type": "display_data"
    }
   ],
   "source": [
    "# Pie plot\n",
    "import matplotlib.pyplot as plt\n",
    "labels = raw_data[\"neighbourhood_group\"].unique().tolist()\n",
    "sizes = [sum(raw_data[\"neighbourhood_group\"] == x) for x in labels]\n",
    "explode = (0, 0, 0, 0.1, 0 )  # explode 1st slice\n",
    "\n",
    "#Plot\n",
    "plt.pie(sizes, labels = labels, shadow = True, startangle=140,explode=explode,\n",
    "       autopct='%1.1f%%')\n",
    "plt.axis('equal')\n",
    "\n",
    "plt.show()"
   ]
  },
  {
   "cell_type": "code",
   "execution_count": 79,
   "metadata": {},
   "outputs": [
    {
     "name": "stdout",
     "output_type": "stream",
     "text": [
      "In group Brooklyn, there are 47 neighbourhood. They are ['Kensington' 'Clinton Hill' 'Bedford-Stuyvesant' 'South Slope'\n",
      " 'Williamsburg' 'Fort Greene' 'Crown Heights' 'Park Slope'\n",
      " 'Windsor Terrace' 'Greenpoint' 'Bushwick' 'Flatbush'\n",
      " 'Prospect-Lefferts Gardens' 'Prospect Heights' 'Brooklyn Heights'\n",
      " 'Carroll Gardens' 'Gowanus' 'Flatlands' 'Cobble Hill' 'Boerum Hill'\n",
      " 'DUMBO' 'East Flatbush' 'Gravesend' 'East New York' 'Sheepshead Bay'\n",
      " 'Fort Hamilton' 'Bensonhurst' 'Sunset Park' 'Brighton Beach'\n",
      " 'Cypress Hills' 'Bay Ridge' 'Columbia St' 'Vinegar Hill' 'Canarsie'\n",
      " 'Borough Park' 'Downtown Brooklyn' 'Midwood' 'Red Hook' 'Dyker Heights'\n",
      " 'Navy Yard' 'Brownsville' 'Manhattan Beach' 'Sea Gate' 'Bergen Beach'\n",
      " 'Coney Island' 'Bath Beach' 'Mill Basin']\n",
      "-------------------------------------\n",
      "In group Manhattan, there are 32 neighbourhood. They are ['Midtown' 'Harlem' 'East Harlem' 'Murray Hill' \"Hell's Kitchen\"\n",
      " 'Upper West Side' 'Chinatown' 'West Village' 'Chelsea' 'Inwood'\n",
      " 'East Village' 'Lower East Side' 'Kips Bay' 'SoHo' 'Upper East Side'\n",
      " 'Washington Heights' 'Financial District' 'Morningside Heights' 'NoHo'\n",
      " 'Flatiron District' 'Roosevelt Island' 'Greenwich Village' 'Little Italy'\n",
      " 'Two Bridges' 'Nolita' 'Gramercy' 'Theater District' 'Tribeca'\n",
      " 'Battery Park City' 'Civic Center' 'Stuyvesant Town' 'Marble Hill']\n",
      "-------------------------------------\n",
      "In group Queens, there are 51 neighbourhood. They are ['Long Island City' 'Woodside' 'Flushing' 'Sunnyside' 'Ridgewood'\n",
      " 'Jamaica' 'Middle Village' 'Ditmars Steinway' 'Astoria' 'Queens Village'\n",
      " 'Rockaway Beach' 'Forest Hills' 'Elmhurst' 'Jackson Heights' 'St. Albans'\n",
      " 'Rego Park' 'Briarwood' 'Ozone Park' 'East Elmhurst' 'Arverne'\n",
      " 'Cambria Heights' 'Bayside' 'Kew Gardens' 'College Point' 'Glendale'\n",
      " 'Richmond Hill' 'Bellerose' 'Maspeth' 'Woodhaven' 'Kew Gardens Hills'\n",
      " 'Bay Terrace' 'Whitestone' 'Bayswater' 'Fresh Meadows'\n",
      " 'Springfield Gardens' 'Howard Beach' 'Belle Harbor' 'Jamaica Estates'\n",
      " 'Far Rockaway' 'South Ozone Park' 'Corona' 'Neponsit' 'Laurelton'\n",
      " 'Holliswood' 'Rosedale' 'Edgemere' 'Jamaica Hills' 'Hollis' 'Douglaston'\n",
      " 'Little Neck' 'Breezy Point']\n",
      "-------------------------------------\n",
      "In group Staten Island, there are 43 neighbourhood. They are ['St. George' 'Tompkinsville' 'Emerson Hill' 'Shore Acres' 'Arrochar'\n",
      " 'Clifton' 'Graniteville' 'Stapleton' 'New Springville' 'Tottenville'\n",
      " 'Mariners Harbor' 'Concord' 'Port Richmond' 'Woodrow' 'Eltingville'\n",
      " 'Lighthouse Hill' 'West Brighton' 'Great Kills' 'Dongan Hills'\n",
      " 'Castleton Corners' 'Randall Manor' 'Todt Hill' 'Silver Lake'\n",
      " 'Grymes Hill' 'New Brighton' 'Midland Beach' 'Richmondtown'\n",
      " 'Howland Hook' 'New Dorp Beach' \"Prince's Bay\" 'South Beach' 'Oakwood'\n",
      " 'Huguenot' 'Grant City' 'Westerleigh' 'Bay Terrace, Staten Island'\n",
      " 'Fort Wadsworth' 'Rosebank' 'Arden Heights' \"Bull's Head\" 'New Dorp'\n",
      " 'Rossville' 'Willowbrook']\n",
      "-------------------------------------\n",
      "In group Bronx, there are 48 neighbourhood. They are ['Highbridge' 'Clason Point' 'Eastchester' 'Kingsbridge' 'Woodlawn'\n",
      " 'University Heights' 'Allerton' 'Concourse Village' 'Concourse'\n",
      " 'Wakefield' 'Spuyten Duyvil' 'Mott Haven' 'Longwood' 'Morris Heights'\n",
      " 'Port Morris' 'Fieldston' 'Mount Eden' 'City Island' 'Williamsbridge'\n",
      " 'Soundview' 'Co-op City' 'Parkchester' 'North Riverdale' 'Bronxdale'\n",
      " 'Riverdale' 'Norwood' 'Claremont Village' 'Fordham' 'Mount Hope'\n",
      " 'Van Nest' 'Morris Park' 'Tremont' 'East Morrisania' 'Hunts Point'\n",
      " 'Pelham Bay' 'Throgs Neck' 'West Farms' 'Morrisania' 'Pelham Gardens'\n",
      " 'Belmont' 'Baychester' 'Melrose' 'Schuylerville' 'Castle Hill'\n",
      " 'Olinville' 'Edenwald' 'Westchester Square' 'Unionport']\n",
      "-------------------------------------\n"
     ]
    }
   ],
   "source": [
    "## Relationshipe between neighbourhood group and neighourhood\n",
    "for group in labels:\n",
    "    neighbour = raw_data[raw_data[\"neighbourhood_group\"] == group][\"neighbourhood\"].unique()\n",
    "    print(\"In group {}, there are {} neighbourhood. They are {}\".format(group, len(neighbour), neighbour))\n",
    "    print(\"-------------------------------------\")"
   ]
  },
  {
   "cell_type": "code",
   "execution_count": null,
   "metadata": {},
   "outputs": [],
   "source": []
  }
 ],
 "metadata": {
  "kernelspec": {
   "display_name": "Python 3",
   "language": "python",
   "name": "python3"
  },
  "language_info": {
   "codemirror_mode": {
    "name": "ipython",
    "version": 3
   },
   "file_extension": ".py",
   "mimetype": "text/x-python",
   "name": "python",
   "nbconvert_exporter": "python",
   "pygments_lexer": "ipython3",
   "version": "3.6.6"
  }
 },
 "nbformat": 4,
 "nbformat_minor": 2
}
